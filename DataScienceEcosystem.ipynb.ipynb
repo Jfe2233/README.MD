{
 "cells": [
  {
   "cell_type": "markdown",
   "id": "ef46a11d-c8f9-49e2-a61c-67ed830130e4",
   "metadata": {},
   "source": [
    "# Data Science Tools and Ecosystem "
   ]
  },
  {
   "cell_type": "markdown",
   "id": "bbdbff6a-3da6-4879-890d-d02ffdfb8a20",
   "metadata": {
    "tags": []
   },
   "source": [
    "In this notebook, Data Science Tools and Ecosystem are summarized."
   ]
  },
  {
   "cell_type": "markdown",
   "id": "48ea33dc-80a4-4b02-b1d9-8c8af9d535ac",
   "metadata": {
    "tags": []
   },
   "source": [
    "#Objectives:\n",
    "- List Python's scientific computing libraries\n",
    "- List the three fundamentals types of machine learning\n",
    "- List the main purpuse of an"
   ]
  },
  {
   "cell_type": "markdown",
   "id": "91ebce20-652a-4749-b543-c4b66f1a4fdc",
   "metadata": {},
   "source": [
    "Some of the popular languages that Data Scientists use are:\n",
    "1. Python\n",
    "2. R\n",
    "3. SQL\n",
    "4. Scala\n",
    "5. Java"
   ]
  },
  {
   "cell_type": "markdown",
   "id": "38487a7d-59bc-4b3f-a9b1-a16a69428f5f",
   "metadata": {},
   "source": [
    "Some of the commonly used libraries used by Data Scientists include:\n",
    "\n",
    "    1. Pandas\n",
    "    2. NumPy\n",
    "    3. SciPy\n",
    "    4. Matplotlib"
   ]
  },
  {
   "cell_type": "markdown",
   "id": "f71e576c-9542-4cbd-b50e-12115e5fd26e",
   "metadata": {},
   "source": [
    "|Data Science Tools|\n",
    "|-------------------|\n",
    "|Jupyter|\n",
    "|Watson Studio Descktop|\n",
    "|RStudio|"
   ]
  },
  {
   "cell_type": "markdown",
   "id": "eb1b7d68-7466-436d-a67b-1f254aa57998",
   "metadata": {},
   "source": [
    "### Below are a few examples of evaluating arithmetic expressions in Python"
   ]
  },
  {
   "cell_type": "code",
   "execution_count": 2,
   "id": "fa2ebb8a-f327-485d-96e2-d6328418cdfa",
   "metadata": {
    "tags": []
   },
   "outputs": [
    {
     "data": {
      "text/plain": [
       "17"
      ]
     },
     "execution_count": 2,
     "metadata": {},
     "output_type": "execute_result"
    }
   ],
   "source": [
    "(3*4)+5"
   ]
  },
  {
   "cell_type": "code",
   "execution_count": 3,
   "id": "82261d84-fbef-4bd3-acff-ff4ec42c8950",
   "metadata": {
    "tags": []
   },
   "outputs": [
    {
     "data": {
      "text/plain": [
       "3.3333333333333335"
      ]
     },
     "execution_count": 3,
     "metadata": {},
     "output_type": "execute_result"
    }
   ],
   "source": [
    "200/60"
   ]
  },
  {
   "cell_type": "markdown",
   "id": "f7512283-b5cb-4d14-b872-693d29275aac",
   "metadata": {},
   "source": [
    "## Author"
   ]
  },
  {
   "cell_type": "code",
   "execution_count": null,
   "id": "c799eb25-c56e-4414-80c5-b49a85287382",
   "metadata": {},
   "outputs": [],
   "source": [
    "Julieta Ana Ferrigno"
   ]
  }
 ],
 "metadata": {
  "kernelspec": {
   "display_name": "Python",
   "language": "python",
   "name": "conda-env-python-py"
  },
  "language_info": {
   "codemirror_mode": {
    "name": "ipython",
    "version": 3
   },
   "file_extension": ".py",
   "mimetype": "text/x-python",
   "name": "python",
   "nbconvert_exporter": "python",
   "pygments_lexer": "ipython3",
   "version": "3.7.12"
  }
 },
 "nbformat": 4,
 "nbformat_minor": 5
}
